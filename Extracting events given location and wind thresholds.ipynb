{
 "cells": [
  {
   "cell_type": "markdown",
   "metadata": {},
   "source": [
    "# Extracting events given location and wind thresholds"
   ]
  },
  {
   "cell_type": "markdown",
   "metadata": {},
   "source": [
    "This code does stuff...\n",
    "\n",
    "By Claire Krause, October 2017. Python v2. TCRM branch `develop` (but should be applicable to other branches)."
   ]
  },
  {
   "cell_type": "markdown",
   "metadata": {},
   "source": [
    "## Set up the notebook imports\n",
    "Make sure the the TCRM directory is in the python path. A number of the import modules (e.g. `database`, `Utilities.`) are directly from TCRM."
   ]
  },
  {
   "cell_type": "code",
   "execution_count": 1,
   "metadata": {
    "collapsed": true
   },
   "outputs": [],
   "source": [
    "%matplotlib inline\n",
    "from __future__ import print_function, division"
   ]
  },
  {
   "cell_type": "code",
   "execution_count": 2,
   "metadata": {
    "collapsed": false
   },
   "outputs": [],
   "source": [
    "import database\n",
    "import numpy as np\n",
    "import matplotlib.pyplot as plt\n",
    "import matplotlib.cm as cm\n",
    "import pandas as pd\n",
    "import statsmodels.api as sm\n",
    "from math import cos, asin, sqrt\n",
    "\n",
    "#from windrose import WindroseAxes, WindAxes\n",
    "\n",
    "from scipy.stats import genpareto, scoreatpercentile, lognorm\n",
    "\n",
    "from Utilities.config import ConfigParser\n",
    "from Utilities.lmomentFit import samlmu, pelgev, pelgpa\n",
    "#from return_period import returnLevels, empiricalReturnPeriod, returnPeriodUncertainty\n",
    "#from distributions import fittedPDF\n",
    "\n",
    "# Import widgets for interactive notebook\n",
    "from ipywidgets import interact, fixed\n",
    "import ipywidgets as widgets\n",
    "\n",
    "import seaborn as sns\n",
    "sns.set_context(\"poster\")\n",
    "sns.set_style(\"whitegrid\")"
   ]
  },
  {
   "cell_type": "markdown",
   "metadata": {},
   "source": [
    "## Set up the hazard database instance\n",
    "Point to the configuration file used to produce the database"
   ]
  },
  {
   "cell_type": "code",
   "execution_count": 3,
   "metadata": {
    "collapsed": false
   },
   "outputs": [
    {
     "name": "stderr",
     "output_type": "stream",
     "text": [
      "No handlers could be found for logger \"root\"\n"
     ]
    }
   ],
   "source": [
    "configFile = \"C:/Users/u37443/TCRM/output/port_hedland/Bodgy_config.ini\"\n",
    "config = ConfigParser()\n",
    "config.read(configFile)\n",
    "\n",
    "db = database.HazardDatabase(configFile)\n",
    "locations = db.getLocations()\n",
    "locNameList = list(locations['locName'])"
   ]
  },
  {
   "cell_type": "markdown",
   "metadata": {},
   "source": [
    "## Set up the location/s that you would like to analyse"
   ]
  },
  {
   "cell_type": "code",
   "execution_count": 4,
   "metadata": {
    "collapsed": false
   },
   "outputs": [
    {
     "data": {
      "text/plain": [
       "[(10720, u'Learmonth Airport', 114.08333, -22.23333),\n",
       " (11188, u'Karratha Aerodrome Aws', 116.76667, -20.71667),\n",
       " (10789, u'Shark Bay Denham', 113.51667, -25.91667),\n",
       " (10671, u'Broome Airport', 122.21667, -17.95),\n",
       " (10789, u'Shark Bay Denham', 113.51667, -25.91667),\n",
       " (10719, u'Carnarvon Airport', 113.66667, -24.86667),\n",
       " (10728, u'Port Hedland Bedout Island Aws', 119.1, -19.58333)]"
      ]
     },
     "execution_count": 4,
     "metadata": {},
     "output_type": "execute_result"
    }
   ],
   "source": [
    "locations_to_analyse = {'Broome': [-17.952, 122.232], 'Port Hedland': [-20.310, 118.591], \n",
    "                        'Dampier/Karratha': [-20.704, 116.767], 'Exmouth': [-21.943, 114.134], \n",
    "                        'Carnarvon': [-24.881, 113.663], 'Geraldton': [-28.781, 114.614], \n",
    "                        'Perth': [-31.951, 115.865]}\n",
    "\n",
    "def distance(lat1, lon1, lat2, lon2):\n",
    "    p = 0.017453292519943295\n",
    "    a = 0.5 - cos((lat2-lat1)*p)/2 + cos(lat1*p)*cos(lat2*p) * (1-cos((lon2-lon1)*p)) / 2\n",
    "    return 12742 * asin(sqrt(a))\n",
    "\n",
    "name_list = []\n",
    "for locs in locations_to_analyse:\n",
    "    locsloc = locations_to_analyse[locs]\n",
    "    listloc = [locations['locLat'], locations['locLon']]    \n",
    "    temp_list = []\n",
    "    for num in range(len(listloc[0])):\n",
    "        temp_list.append(distance(locsloc[0], locsloc[1], listloc[0][num], listloc[1][num]))\n",
    "    min_dist = temp_list.index(min(temp_list))\n",
    "    name_list.append(locations[min_dist])\n",
    "name_list"
   ]
  },
  {
   "cell_type": "markdown",
   "metadata": {},
   "source": [
    "## Extract events that meet distance and speed thresholds"
   ]
  },
  {
   "cell_type": "code",
   "execution_count": 10,
   "metadata": {
    "collapsed": true
   },
   "outputs": [],
   "source": [
    "speed_thr = 70\n",
    "dist_thr = 100"
   ]
  },
  {
   "cell_type": "code",
   "execution_count": 11,
   "metadata": {
    "collapsed": false
   },
   "outputs": [
    {
     "data": {
      "text/plain": [
       "rec.array([ (u'Learmonth Airport',  72.09527588, -63.45491791,  34.22283936, u'007-00135',   6.3675266 ,  80.8937149 ,  89575.0078125),\n",
       " (u'Learmonth Airport',  76.39884949, -26.05720139,  71.81787109, u'000-00009',  14.50699698,  79.48527527,  90910.9609375)], \n",
       "          dtype=[('locName', '<U17'), ('wspd', '<f8'), ('umax', '<f8'), ('vmax', '<f8'), ('eventId', '<U9'), ('distClosest', '<f8'), ('maxwind', '<f8'), ('pmin', '<f8')])"
      ]
     },
     "execution_count": 11,
     "metadata": {},
     "output_type": "execute_result"
    }
   ],
   "source": [
    "extreme_events = database.locationPassageWindSpeed(db, str(name_list[0][0]), speed_thr, dist_thr)\n",
    "extreme_events"
   ]
  },
  {
   "cell_type": "code",
   "execution_count": null,
   "metadata": {
    "collapsed": true
   },
   "outputs": [],
   "source": []
  }
 ],
 "metadata": {
  "kernelspec": {
   "display_name": "Python 2",
   "language": "python",
   "name": "python2"
  },
  "language_info": {
   "codemirror_mode": {
    "name": "ipython",
    "version": 2
   },
   "file_extension": ".py",
   "mimetype": "text/x-python",
   "name": "python",
   "nbconvert_exporter": "python",
   "pygments_lexer": "ipython2",
   "version": "2.7.3"
  }
 },
 "nbformat": 4,
 "nbformat_minor": 2
}
